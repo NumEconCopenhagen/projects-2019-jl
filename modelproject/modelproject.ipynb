{
 "cells": [
  {
   "cell_type": "markdown",
   "metadata": {},
   "source": [
    "# Model Project: Implementation of the Binomial Option Pricing model proposed by Cox, Ross and Rubinstein in 1979\n",
    "\n",
    "The binomial option pricing model is widely used in finance to value options on stocks as well as other assets. The model was invented in 1979 by Cox, Ross and Rubinstein and an in depth walk through of the model can be found in the following article on Wikipedia: https://en.wikipedia.org/wiki/Binomial_options_pricing_model"
   ]
  },
  {
   "cell_type": "markdown",
   "metadata": {},
   "source": [
    "## Importing packages"
   ]
  },
  {
   "cell_type": "code",
   "execution_count": 1,
   "metadata": {
    "collapsed": true
   },
   "outputs": [],
   "source": [
    "import numpy as np\n",
    "import math as math"
   ]
  },
  {
   "cell_type": "markdown",
   "metadata": {},
   "source": [
    "## Defining the binomial asset pricing model"
   ]
  },
  {
   "cell_type": "markdown",
   "metadata": {},
   "source": [
    "First the binomial pricing model is defined. The model takes in four inputs; the amount of periods in the model (n), the time duration of each period (t), the current normalizaed price of the asset (S) as well as the variance in the price (v). "
   ]
  },
  {
   "cell_type": "markdown",
   "metadata": {},
   "source": [
    "By each period of the model the price of the asset can either go up (u) or down (d). The outcome of each of the two states are presented below:\n",
    "\n",
    "\\\\[ u = e^{v \\cdot \\sqrt{dt}}\\\\]\n",
    "\\\\[ d = e^{-v \\cdot \\sqrt{dt}} = \\frac{1}{u} \\\\]\n",
    "\n",
    "Further the price of the asset is defined by the following equation, which is a function of u and d:\n",
    "\\\\[ S_n = S_{0} \\cdot u^{N_u - N_d}     \\\\]\n",
    "With the amount of up and down ticks: \\\\[ N_u \\quad and \\quad N_d \\\\] \n"
   ]
  },
  {
   "cell_type": "code",
   "execution_count": 2,
   "metadata": {},
   "outputs": [],
   "source": [
    "def Binomial_Pricing_Model(n,t,S,v):\n",
    "    dt = t/n\n",
    "    u = math.exp(v*math.sqrt(dt))\n",
    "    d = 1/u\n",
    "    asset_prices = np.zeros((n+1, n+1))\n",
    "    for j in range(n+1):\n",
    "        for i in range(j+1):\n",
    "            asset_prices[i,j] = S*math.pow(d,i) * math.pow(u,j-i)\n",
    "    return asset_prices"
   ]
  },
  {
   "cell_type": "markdown",
   "metadata": {},
   "source": [
    "We then feed in the model inputs, setting the amount of periods equal to 10, duration of each period to be 200 workdays pr. year, the asset price to 100 and the variance to 0,5. The model is then called and the result is printed below:"
   ]
  },
  {
   "cell_type": "code",
   "execution_count": 3,
   "metadata": {
    "collapsed": false,
    "scrolled": false
   },
   "outputs": [
    {
     "name": "stdout",
     "output_type": "stream",
     "text": [
      "For n = 10 the price evolves as:\n",
      " [[100 112 126 142 159 179 201 226 255 286 322]\n",
      " [  0  88 100 112 126 142 159 179 201 226 255]\n",
      " [  0   0  79  88 100 112 126 142 159 179 201]\n",
      " [  0   0   0  70  79  88 100 112 126 142 159]\n",
      " [  0   0   0   0  62  70  79  88 100 112 126]\n",
      " [  0   0   0   0   0  55  62  70  79  88 100]\n",
      " [  0   0   0   0   0   0  49  55  62  70  79]\n",
      " [  0   0   0   0   0   0   0  44  49  55  62]\n",
      " [  0   0   0   0   0   0   0   0  39  44  49]\n",
      " [  0   0   0   0   0   0   0   0   0  34  39]\n",
      " [  0   0   0   0   0   0   0   0   0   0  31]]\n"
     ]
    }
   ],
   "source": [
    "n = 10\n",
    "t = 200/365\n",
    "S = 100\n",
    "v = .5\n",
    "\n",
    "x = Binomial_Pricing_Model(n,t,S,v)\n",
    "\n",
    "print('For n = 10 the price evolves as:\\n',np.matrix(x.astype(int)))"
   ]
  },
  {
   "cell_type": "markdown",
   "metadata": {},
   "source": [
    "We notice that over 10 periods the maximum price the it stock evolves to is 322, as well as the lowest possible outcome is 31. These are however extreme observations and it is more likely that the final stock price will end up somewhere in the middle. "
   ]
  },
  {
   "cell_type": "markdown",
   "metadata": {},
   "source": [
    "## Defining the binomial option pricing model\n",
    "With the asset price function from above we can now state the option pricing model as per Cox, Ross and Rubinstein. The model uses backwards induction to iteratively price the option one period back in time. \n",
    "Calculating the probabilities of either the up or down state the model uses the risk neautral probability measure q which is extracted from a Brownian Motion:\n",
    "\\\\[ q = \\frac{e^{r \\cdot dt} - d}{u-d}    \\\\]\n"
   ]
  },
  {
   "cell_type": "markdown",
   "metadata": {},
   "source": [
    "### Pricing of the call option"
   ]
  },
  {
   "cell_type": "markdown",
   "metadata": {},
   "source": [
    "First we define the function valuing a call option on the asset. Aside from taking in the q-probabilities and the inputs from above, the pricing model also utilizes the strike price k and the risk-free interest rate. \n",
    "\n",
    "The function pricing the call option (CallValue), which is presented below constantly, initially fills out the entire matrix, which is n by n. Afterwards, the function Cm at each note solves the following maximisation problem:\n",
    "\\\\[Max[(S_n-k),0]     \\\\]\n"
   ]
  },
  {
   "cell_type": "code",
   "execution_count": 4,
   "metadata": {},
   "outputs": [],
   "source": [
    "def CallValue(n, S, k, r, v, t):\n",
    "    dt = t/n                    \n",
    "    u = math.exp(v*math.sqrt(dt)) \n",
    "    d = 1/u                     \n",
    "    q = (math.exp(r*dt)-d)/(u-d)   \n",
    "    Pm = np.zeros((n+1, n+1))   \n",
    "    Cm = np.zeros((n+1, n+1))\n",
    "    tmp = np.zeros((2,n+1))\n",
    "    for j in range(n+1):\n",
    "        tmp[0,j] = S*math.pow(d,j)\n",
    "        tmp[1,j] = S*math.pow(u,j)\n",
    "    tot = np.unique(tmp)\n",
    "    c = n\n",
    "\n",
    "    for i in range(c+1):\n",
    "        for j in range(c+1):\n",
    "            Pm[i,j-c-1] = tot[(n-i)+j]\n",
    "        c=c-1\n",
    "    for j in range(n+1, 0, -1):\n",
    "        for i in range(j):\n",
    "                if (j == n + 1):\n",
    "                    Cm[i,j-1] = max(Pm[i,j-1]-k, 0)     \n",
    "                else:\n",
    "                    Cm[i,j-1] = math.exp(-.05*dt) * (q*Cm[i,j] + (1-q)*Cm[i+1,j])  \n",
    "    return [Pm,Cm] "
   ]
  },
  {
   "cell_type": "markdown",
   "metadata": {},
   "source": [
    "We define the strike price (k) as well as the risk-free interest rate (r). These can be set as you please. The project is however intended to be run with a strike price of 102 and a risk free interest rate of 5%, why the comments below only apply to these inputs."
   ]
  },
  {
   "cell_type": "code",
   "execution_count": 5,
   "metadata": {},
   "outputs": [],
   "source": [
    "k = 102\n",
    "r = .05"
   ]
  },
  {
   "cell_type": "markdown",
   "metadata": {},
   "source": [
    "We then present the price of the call option, with a strike of 102, as each node in the binomial tree."
   ]
  },
  {
   "cell_type": "code",
   "execution_count": 8,
   "metadata": {},
   "outputs": [
    {
     "name": "stdout",
     "output_type": "stream",
     "text": [
      "Call Option:\n",
      " [[ 14  21  31  44  60  78 100 125 153 185 220]\n",
      " [  0   8  13  19  29  42  58  78 100 125 153]\n",
      " [  0   0   3   6  11  17  27  41  58  77  99]\n",
      " [  0   0   0   1   2   4   8  15  25  40  57]\n",
      " [  0   0   0   0   0   0   1   2   5  11  24]\n",
      " [  0   0   0   0   0   0   0   0   0   0   0]\n",
      " [  0   0   0   0   0   0   0   0   0   0   0]\n",
      " [  0   0   0   0   0   0   0   0   0   0   0]\n",
      " [  0   0   0   0   0   0   0   0   0   0   0]\n",
      " [  0   0   0   0   0   0   0   0   0   0   0]\n",
      " [  0   0   0   0   0   0   0   0   0   0   0]]\n"
     ]
    }
   ],
   "source": [
    "Pm,CmC = CallValue(n,S,k,r,v,t)\n",
    "print('Call Option:\\n',np.matrix(CmC.astype(int)))\n"
   ]
  },
  {
   "cell_type": "markdown",
   "metadata": {},
   "source": [
    "The results show that at the initial point the call option has a price of 14. From here on the price evolves according to the evolution of the underlying asset - as it moves up the price of the option increases, as it declines so does the price of the option. Note that the call option will only be utilized as the value of the stock is over 102. This due to the fact that there is no point in using an option to buy a stock at 102, when its underlying price is only 95, for instance. "
   ]
  },
  {
   "cell_type": "markdown",
   "metadata": {},
   "source": [
    "### Pricing of the corresponding put option"
   ]
  },
  {
   "cell_type": "markdown",
   "metadata": {},
   "source": [
    "Again, we define the function valuing a the option on the asset, this time with a put rather than a call. \n",
    "\n",
    "The function pricing the put option (PutValue), which is presented below constantly, initially fills out the entire matrix, which is n by n. Afterwards, the function Cm at each note solves the following maximisation problem:\n",
    "\\\\[Max[(k-S_n),0]     \\\\]\n"
   ]
  },
  {
   "cell_type": "code",
   "execution_count": 36,
   "metadata": {},
   "outputs": [],
   "source": [
    "def PutValue(n, S, K, r, v, t):\n",
    "    dt = t/n                    \n",
    "    u = math.exp(v*math.sqrt(dt)) \n",
    "    d = 1/u                     \n",
    "    p = (math.exp(r*dt)-d)/(u-d)   \n",
    "    Pm = np.zeros((n+1, n+1))   \n",
    "    Cm = np.zeros((n+1, n+1))\n",
    "    tmp = np.zeros((2,n+1))\n",
    "    for j in range(n+1):\n",
    "        tmp[0,j] = S*math.pow(d,j)\n",
    "        tmp[1,j] = S*math.pow(u,j)\n",
    "    tot = np.unique(tmp)\n",
    "    c = n\n",
    "    \n",
    "    for i in range(c+1):\n",
    "        for j in range(c+1):\n",
    "            Pm[i,j-c-1] = tot[(n-i)+j]\n",
    "        c=c-1\n",
    "    for j in range(n+1, 0, -1):\n",
    "        for i in range(j):\n",
    "                if(j == n+1):\n",
    "                    Cm[i,j-1] = max(K-Pm[i,j-1], 0)     \n",
    "                else:\n",
    "                    Cm[i,j-1] = math.exp(-.05*dt) * (p*Cm[i,j] + (1-p)*Cm[i+1,j]) \n",
    "            \n",
    "    return [Pm,Cm] "
   ]
  },
  {
   "cell_type": "markdown",
   "metadata": {},
   "source": [
    "The model takes in the same inputs for the strike price as well as risk free interest rate presented earlier. \n",
    "\n",
    "Again the results are presented in a matrix form as shown below."
   ]
  },
  {
   "cell_type": "code",
   "execution_count": 37,
   "metadata": {},
   "outputs": [
    {
     "name": "stdout",
     "output_type": "stream",
     "text": [
      "Put Option:\n",
      " [[14  9  5  2  0  0  0  0  0  0  0]\n",
      " [ 0 18 12  7  3  1  0  0  0  0  0]\n",
      " [ 0  0 24 17 11  5  2  0  0  0  0]\n",
      " [ 0  0  0 31 23 16  9  3  0  0  0]\n",
      " [ 0  0  0  0 38 30 23 14  7  1  0]\n",
      " [ 0  0  0  0  0 44 38 30 22 12  2]\n",
      " [ 0  0  0  0  0  0 51 45 38 31 22]\n",
      " [ 0  0  0  0  0  0  0 57 51 46 39]\n",
      " [ 0  0  0  0  0  0  0  0 62 57 52]\n",
      " [ 0  0  0  0  0  0  0  0  0 66 62]\n",
      " [ 0  0  0  0  0  0  0  0  0  0 70]]\n"
     ]
    }
   ],
   "source": [
    "Pm,CmP= PutValue(n, S, k, r, v, t)\n",
    "print('Put Option:\\n',np.matrix(CmP.astype(int)))"
   ]
  },
  {
   "cell_type": "markdown",
   "metadata": {},
   "source": [
    "Again we note that the initial price of the put option, with a strike of 102, is 14. This is due to the fact that the chance of going up and down are equal as well as the variance being equal to 0,5. From here on the put evovles and takes in higher and higher numbers the lower the pricing of the underlying asset becomes. In the case where the price of the asset falls at every opportunity, and in the end only is 31, the put option is worth 70. The reason that this numbers is not equal to 71 is due to round in the price if the underlying asset. "
   ]
  }
 ],
 "metadata": {
  "anaconda-cloud": {},
  "kernelspec": {
   "display_name": "Python 3",
   "language": "python",
   "name": "python3"
  },
  "language_info": {
   "codemirror_mode": {
    "name": "ipython",
    "version": 3
   },
   "file_extension": ".py",
   "mimetype": "text/x-python",
   "name": "python",
   "nbconvert_exporter": "python",
   "pygments_lexer": "ipython3",
   "version": "3.7.1"
  }
 },
 "nbformat": 4,
 "nbformat_minor": 2
}
